{
 "cells": [
  {
   "cell_type": "markdown",
   "id": "4645adfe",
   "metadata": {},
   "source": [
    "# Introduction to SN1 and SN2 Reactions\n",
    "\n",
    "## SN1 Reactions\n",
    "The S<sub>N</sub>1 reaction is a nucleophilic substitution reaction that proceeds via a two-step mechanism, where the leaving group first leaves, resulting in a carbocation intermediate. This intermediate has a strong affinity for a nucleophile, which reacts to form the product. Tertiary substrates typically proceed via an S<sub>N</sub>1 pathway due to the better stabilisation of the carbocation due to inductive electron effects. Solvent effects will also influence the reaction pathway, and polar protic solvent (Alcohols) promotes the S<sub>N</sub>1 pathway to the greatest extent. The reaction results in a racemic mixture of products that have the inverted and retained stereochemical configuration.\n",
    "\n",
    "## SN2 Reactions\n",
    "The S<sub>N</sub>2 reaction is a nucleophilic substitution reaction that proceeds via a one-step mechanism, where the leaving group first leaves in the same step as the nucleophile forming a bond with the electrophilic carbon. There is no intermediate as seen in the S<sub>N</sub>1 reaction; however, a transition state consists of the leaving group and nucleophile partial bonds. This transition state provides the activation energy of the reaction, as it is typically the lowest for methyl and primary alkyl halides. The resultant stereochemistry of the product is exclusively inverted. Solvent effects also influence this reaction, with polar aprotic solvents (DMSO, Acetonitrile and Acetone) having the most significant effect on transition state energy reduction."
   ]
  },
  {
   "cell_type": "markdown",
   "id": "f397bdfb",
   "metadata": {},
   "source": [
    "## Getting Started\n",
    "To get started, navigate to the virtual machine with the links below. These will also import the notebooks to your user profile on the VM. Start with the S<sub>N</sub>2, as the guide is more in-depth to provide the basics. \n",
    "\n",
    "[SN2 Notebook Link](https://chem2000.webredirect.org/hub/user-redirect/git-pull?repo=https%3A%2F%2Fgithub.com%2FNNCoffee%2FCRM-Computational-Project&urlpath=tree%2FCRM-Computational-Project%2FA+Computational+Approach+to+SN2+Reactions.ipynb&branch=main)\n",
    "\n",
    "[SN1 Notebook Link](https://chem2000.webredirect.org/hub/user-redirect/git-pull?repo=https%3A%2F%2Fgithub.com%2FNNCoffee%2FCRM-Computational-Project&urlpath=tree%2FCRM-Computational-Project%2FA+Computational+Approach+to+SN1+Reactions.ipynb&branch=main)"
   ]
  }
 ],
 "metadata": {
  "kernelspec": {
   "display_name": "Python 3 (ipykernel)",
   "language": "python",
   "name": "python3"
  },
  "language_info": {
   "codemirror_mode": {
    "name": "ipython",
    "version": 3
   },
   "file_extension": ".py",
   "mimetype": "text/x-python",
   "name": "python",
   "nbconvert_exporter": "python",
   "pygments_lexer": "ipython3",
   "version": "3.9.13"
  }
 },
 "nbformat": 4,
 "nbformat_minor": 5
}
